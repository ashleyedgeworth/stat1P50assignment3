{
 "cells": [
  {
   "cell_type": "code",
   "execution_count": 28,
   "id": "85e6975c-e4db-4c37-8a5f-d20848231370",
   "metadata": {},
   "outputs": [
    {
     "name": "stdout",
     "output_type": "stream",
     "text": [
      "[0.84854497 0.09576015]\n"
     ]
    }
   ],
   "source": [
    "#question 1\n",
    "from sklearn.linear_model import LinearRegression\n",
    "reg = LinearRegression()\n",
    "model = LinearRegression()\n",
    "import pandas as pd\n",
    "data = pd.read_csv('crime.csv')\n",
    "X = data [['PctUnemployed', 'PctBSorMore']]\n",
    "y = data ['ViolentCrimesPerPop']\n",
    "trained_model = model.fit (X,y)\n",
    "y_predicted = trained_model.predict(X)\n",
    "print (trained_model.coef_)\n",
    "#if the percentage of unemployed goes up by 1, there will be approximatly 85% more violent crimes\n",
    "#if the percentage of people with bachelors degree or high goes up by 1, there will be approximatly 10% more violent crimes"
   ]
  },
  {
   "cell_type": "code",
   "execution_count": 29,
   "id": "87f95cf3-314b-422d-a280-f0f487a25d73",
   "metadata": {},
   "outputs": [
    {
     "name": "stdout",
     "output_type": "stream",
     "text": [
      "[ 0.21041265 -0.06307632  0.56906083  0.19527306  0.21295658]\n"
     ]
    }
   ],
   "source": [
    "#question 2\n",
    "from sklearn.linear_model import LinearRegression\n",
    "reg = LinearRegression()\n",
    "model = LinearRegression()\n",
    "import pandas as pd\n",
    "data = pd.read_csv('crime.csv')\n",
    "X = data [['PctUnemployed', 'PctBSorMore','PctPopUnderPov', 'PolicPerPop','Pcthomeless']]\n",
    "y = data ['ViolentCrimesPerPop']\n",
    "trained_model = model.fit (X,y)\n",
    "y_predicted = trained_model.predict(X)\n",
    "print (trained_model.coef_)\n",
    "#the percentage of people under the poverty level is the most influential factor in violent crimes"
   ]
  },
  {
   "cell_type": "code",
   "execution_count": 61,
   "id": "6341ced1-85ab-4dcb-8d8e-263dd7ae5439",
   "metadata": {},
   "outputs": [
    {
     "name": "stderr",
     "output_type": "stream",
     "text": [
      "/Users/ashleyedgeworth/opt/anaconda3/lib/python3.9/site-packages/sklearn/utils/validation.py:1111: DataConversionWarning: A column-vector y was passed when a 1d array was expected. Please change the shape of y to (n_samples, ), for example using ravel().\n",
      "  y = column_or_1d(y, warn=True)\n"
     ]
    },
    {
     "data": {
      "text/html": [
       "<div>\n",
       "<style scoped>\n",
       "    .dataframe tbody tr th:only-of-type {\n",
       "        vertical-align: middle;\n",
       "    }\n",
       "\n",
       "    .dataframe tbody tr th {\n",
       "        vertical-align: top;\n",
       "    }\n",
       "\n",
       "    .dataframe thead th {\n",
       "        text-align: right;\n",
       "    }\n",
       "</style>\n",
       "<table border=\"1\" class=\"dataframe\">\n",
       "  <thead>\n",
       "    <tr style=\"text-align: right;\">\n",
       "      <th></th>\n",
       "      <th>0</th>\n",
       "    </tr>\n",
       "  </thead>\n",
       "  <tbody>\n",
       "    <tr>\n",
       "      <th>0</th>\n",
       "      <td>1</td>\n",
       "    </tr>\n",
       "    <tr>\n",
       "      <th>1</th>\n",
       "      <td>1</td>\n",
       "    </tr>\n",
       "    <tr>\n",
       "      <th>2</th>\n",
       "      <td>1</td>\n",
       "    </tr>\n",
       "    <tr>\n",
       "      <th>3</th>\n",
       "      <td>1</td>\n",
       "    </tr>\n",
       "    <tr>\n",
       "      <th>4</th>\n",
       "      <td>1</td>\n",
       "    </tr>\n",
       "    <tr>\n",
       "      <th>...</th>\n",
       "      <td>...</td>\n",
       "    </tr>\n",
       "    <tr>\n",
       "      <th>221</th>\n",
       "      <td>0</td>\n",
       "    </tr>\n",
       "    <tr>\n",
       "      <th>222</th>\n",
       "      <td>0</td>\n",
       "    </tr>\n",
       "    <tr>\n",
       "      <th>223</th>\n",
       "      <td>0</td>\n",
       "    </tr>\n",
       "    <tr>\n",
       "      <th>224</th>\n",
       "      <td>0</td>\n",
       "    </tr>\n",
       "    <tr>\n",
       "      <th>225</th>\n",
       "      <td>0</td>\n",
       "    </tr>\n",
       "  </tbody>\n",
       "</table>\n",
       "<p>226 rows × 1 columns</p>\n",
       "</div>"
      ],
      "text/plain": [
       "     0\n",
       "0    1\n",
       "1    1\n",
       "2    1\n",
       "3    1\n",
       "4    1\n",
       "..  ..\n",
       "221  0\n",
       "222  0\n",
       "223  0\n",
       "224  0\n",
       "225  0\n",
       "\n",
       "[226 rows x 1 columns]"
      ]
     },
     "execution_count": 61,
     "metadata": {},
     "output_type": "execute_result"
    }
   ],
   "source": [
    "#question 3\n",
    "import matplotlib.pyplot as plt\n",
    "from sklearn.linear_model import LogisticRegression\n",
    "from sklearn.metrics import classification_report, confusion_matrix\n",
    "import pandas as pd\n",
    "data = pd.read_csv('kidney_disease.csv')\n",
    "X = pd.DataFrame(data[['age', 'bp', 'sod', 'pot', 'hemo', 'pcv', 'wc', 'rc']])\n",
    "#y = data ['classification']\n",
    "y = pd.DataFrame(data['ckd'])\n",
    "model = LogisticRegression(solver='liblinear', random_state = 0)\n",
    "model.fit (X,y)\n",
    "y_predicted = model.predict(X)\n",
    "pd.DataFrame(y_predicted)"
   ]
  },
  {
   "cell_type": "code",
   "execution_count": 57,
   "id": "636feab2-6dc1-429c-85b5-1d1d5253983e",
   "metadata": {},
   "outputs": [
    {
     "name": "stdout",
     "output_type": "stream",
     "text": [
      "0.9803921568627451\n",
      "0.9852941176470589\n"
     ]
    },
    {
     "name": "stderr",
     "output_type": "stream",
     "text": [
      "/Users/ashleyedgeworth/opt/anaconda3/lib/python3.9/site-packages/sklearn/utils/validation.py:1111: DataConversionWarning: A column-vector y was passed when a 1d array was expected. Please change the shape of y to (n_samples, ), for example using ravel().\n",
      "  y = column_or_1d(y, warn=True)\n",
      "/Users/ashleyedgeworth/opt/anaconda3/lib/python3.9/site-packages/sklearn/linear_model/_logistic.py:444: ConvergenceWarning: lbfgs failed to converge (status=1):\n",
      "STOP: TOTAL NO. of ITERATIONS REACHED LIMIT.\n",
      "\n",
      "Increase the number of iterations (max_iter) or scale the data as shown in:\n",
      "    https://scikit-learn.org/stable/modules/preprocessing.html\n",
      "Please also refer to the documentation for alternative solver options:\n",
      "    https://scikit-learn.org/stable/modules/linear_model.html#logistic-regression\n",
      "  n_iter_i = _check_optimize_result(\n"
     ]
    }
   ],
   "source": [
    "#question 4\n",
    "from sklearn.metrics import accuracy_score, f1_score\n",
    "import pandas as pd\n",
    "\n",
    "data = pd.read_csv('kidney_disease.csv')\n",
    "X = data[['age', 'bp', 'sod', 'pot', 'hemo', 'pcv', 'wc', 'rc']]\n",
    "y = pd.DataFrame(data['ckd'])\n",
    "\n",
    "X_train, X_test, y_train, y_test = train_test_split(X,y,test_size = 0.3)\n",
    "model = LogisticRegression() #define model\n",
    "model.fit (X_train, y_train) #train model\n",
    "y_predicted = pd.DataFrame(model.predict(X_test)) #prediction\n",
    "accuracy = accuracy_score(y_test, y_predicted)\n",
    "\n",
    "#real_predicted_values = pd.read_csv('kidney_disease.csv')\n",
    "#y_true = list(real_predicted_values['y_true'])\n",
    "#y_predicted = list(real_predicted_values['y_predicted'])\n",
    "#accuracy_score = accuracy_score(y_true, y_predicted)\n",
    "print(f1_score(y_test,y_predicted))\n",
    "print(accuracy)\n",
    "#print(accuracy_score)"
   ]
  },
  {
   "cell_type": "code",
   "execution_count": 65,
   "id": "d146fbf7-91cf-4cb8-9075-5abdd41ede85",
   "metadata": {},
   "outputs": [],
   "source": [
    "#question 5\n",
    "def get_frequency(input_string):\n",
    "    list_of_words = input_string.split(' ')\n",
    "    dict_of_frequencies = {}\n",
    "    \n",
    "    for word in list_of_words:\n",
    "        \n",
    "        if word in dict_of_frequencies.keys():\n",
    "            dict_of_frequencies[word] = dict_of_frequencies[word] + 1\n",
    "        else:\n",
    "            dict_of_frequencies[word] = 1\n",
    "    return(max(dict_of_frequencies.values())/len(list_of_words))"
   ]
  },
  {
   "cell_type": "code",
   "execution_count": 66,
   "id": "e196bf52-9def-4565-a48b-c98a428c183d",
   "metadata": {},
   "outputs": [
    {
     "data": {
      "text/plain": [
       "0.75"
      ]
     },
     "execution_count": 66,
     "metadata": {},
     "output_type": "execute_result"
    }
   ],
   "source": [
    "get_frequency(\"hi hi hi hello\")"
   ]
  },
  {
   "cell_type": "code",
   "execution_count": 68,
   "id": "5719eef4-2a9f-4b7b-bc5f-e014734833fa",
   "metadata": {},
   "outputs": [
    {
     "name": "stdout",
     "output_type": "stream",
     "text": [
      "Accuracy: 0.8466666666666667\n",
      "[0 0 0 0 0 0 0 0 0 0 0 0 0 0 0 0 0 0 0 0 0 0 0 0 0 0 0 0 0 0 0 0 0 0 0 0 0\n",
      " 0 0 0 0 0 0 0 0 0 0 0 0 0 0 0 0 0 0 0 0 0 0 0 0 0 0 0 0 0 0 0 0 0 0 0 0 0\n",
      " 0 0 0 0 0 0 0 0 0 0 0 0 0 0 0 0 0 0 0 0 0 0 0 0 0 0 0 0 0 0 0 0 0 0 0 0 0\n",
      " 0 0 0 0 0 0 0 0 0 0 0 0 0 0 0 0 0 0 0 0 0 0 0 0 0 0 0 0 0 0 0 0 0 0 0 0 0\n",
      " 0 0 0 0 0 0 0 0 0 0 0 0 0 0 0 0 0 0 0 0 0 0 0 0 0 0 0 0 0 0 0 0 0 0 0 0 0\n",
      " 0 0 0 0 0 0 0 0 0 0 0 0 0 0 0 0 0 0 0 0 0 0 0 0 0 0 0 0 0 0 0 0 0 0 0 0 0\n",
      " 0 0 0 0 0 0 0 0 0 0 0 0 0 0 0 0 0 0 0 0 0 0 0 0 0 0 0 0 0 0 0 0 0 0 0 0 0\n",
      " 0 0 0 0 0 0 0 0 0 0 0 0 0 0 0 0 0 0 0 0 0 0 0 0 0 0 0 0 0 0 0 0 0 0 0 0 0\n",
      " 0 0 0 0 0 0 0 0 0 0 0 0 0 0 0 0 0 0 0 0 0 0 0 0 0 0 0 0 0 0 0 0 0 0 0 0 0\n",
      " 0 0 0 0 0 0 0 0 0 0 0 0 0 0 0 0 0 0 0 0 0 0 0 0 0 0 0 0 0 0 0 0 0 0 0 0 0\n",
      " 0 0 0 0 0 0 0 0 0 0 0 0 0 0 0 0 0 0 0 0 0 0 0 0 0 0 0 0 0 0 0 0 0 0 0 0 0\n",
      " 0 0 0 0 0 0 0 0 0 0 0 0 0 0 0 0 0 0 0 0 0 0 0 0 0 0 0 0 0 0 0 0 0 0 0 0 0\n",
      " 0 0 0 0 0 0 0 0 0 0 0 0 0 0 0 0 0 0 0 0 0 0 0 0 0 0 0 0 0 0 0 0 0 0 0 0 0\n",
      " 0 0 0 0 0 0 0 0 0 0 0 0 0 0 0 0 0 0 0 0 0 0 0 0 0 0 0 0 0 0 0 0 0 0 0 0 0\n",
      " 0 0 0 0 0 0 0 0 0 0 0 0 0 0 0 0 0 0 0 0 0 0 0 0 0 0 0 0 0 0 0 0 0 0 0 0 0\n",
      " 0 0 0 0 0 0 0 0 0 0 0 0 0 0 0 0 0 0 0 0 0 0 0 0 0 0 0 0 0 0 0 0 0 0 0 0 0\n",
      " 0 0 0 0 0 0 0 0 0 0 0 0 0 0 0 0 0 0 0 0 0 0 0 0 0 0 0 0 0 0 0 0 0 0 0 0 0\n",
      " 0 0 0 0 0 0 0 0 0 0 0 0 0 0 0 0 0 0 0 0 0 0 0 0 0 0 0 0 0 0 0 0 0 0 0 0 0\n",
      " 0 0 0 0 0 0 0 0 0 0 0 0 0 0 0 0 0 0 0 0 0 0 0 0 0 0 0 0 0 0 0 0 0 0 0 0 0\n",
      " 0 0 0 0 0 0 0 0 0 0 0 0 0 0 0 0 0 0 0 0 0 0 0 0 0 0 0 0 0 0 0 0 0 0 0 0 0\n",
      " 0 0 0 0 0 0 0 0 0 0 0 0 0 0 0 0 0 0 0 0 0 0 0 0 0 0 0 0 0 0 0 0 0 0 0 0 0\n",
      " 0 0 0 0 0 0 0 0 0 0 0 0 0 0 0 0 0 0 0 0 0 0 0 0 0 0 0 0 0 0 0 0 0 0 0 0 0\n",
      " 0 0 0 0 0 0 0 0 0 0 0 0 0 0 0 0 0 0 0 0 0 0 0 0 0 0 0 0 0 0 0 0 0 0 0 0 0\n",
      " 0 0 0 0 0 0 0 0 0 0 0 0 0 0 0 0 0 0 0 0 0 0 0 0 0 0 0 0 0 0 0 0 0 0 0 0 0\n",
      " 0 0 0 0 0 0 0 0 0 0 0 0]\n"
     ]
    }
   ],
   "source": [
    "#question 6\n",
    "import pandas as pd\n",
    "import numpy as np\n",
    "from sklearn.model_selection import train_test_split\n",
    "from sklearn.linear_model import LogisticRegression\n",
    "from sklearn.metrics import accuracy_score\n",
    "from sklearn.preprocessing import LabelEncoder\n",
    "\n",
    "data = pd.read_csv('email.csv')\n",
    "\n",
    "#adding empty colums\n",
    "data['hyperlink'] = None\n",
    "data['free'] = None\n",
    "data['click'] = None\n",
    "data['business'] = None\n",
    "data['frequency'] = None\n",
    "\n",
    "email_text = data['email']\n",
    "words_to_test = ['hyperlink', 'free', 'click', 'business']\n",
    "\n",
    "for email in email_text:\n",
    "    for word in words_to_test:\n",
    "        if word in str(email):\n",
    "            data[word] = 1\n",
    "\n",
    "data['frequency'] = get_frequency(str(email))\n",
    "\n",
    "#x value data frame\n",
    "word_frequency = pd.DataFrame([\n",
    "    data['hyperlink'],\n",
    "    data['free'],\n",
    "    data['click'],\n",
    "    data['business'],\n",
    "    data['frequency']\n",
    "])\n",
    "\n",
    "#y value data frame\n",
    "labels = pd.DataFrame([\n",
    "    data['label']\n",
    "])\n",
    "\n",
    "x_train, x_test, y_train, y_test = train_test_split(word_frequency.T,np.ravel(labels.T),test_size = 0.3)\n",
    "model = LogisticRegression() #define model\n",
    "fit_model = model.fit (x_train, y_train) #train model\n",
    "\n",
    "y_predicted = fit_model.predict(x_test)\n",
    "\n",
    "print('Accuracy:', accuracy_score(y_test, y_predicted))\n",
    "print (y_predicted)"
   ]
  }
 ],
 "metadata": {
  "kernelspec": {
   "display_name": "Python 3 (ipykernel)",
   "language": "python",
   "name": "python3"
  },
  "language_info": {
   "codemirror_mode": {
    "name": "ipython",
    "version": 3
   },
   "file_extension": ".py",
   "mimetype": "text/x-python",
   "name": "python",
   "nbconvert_exporter": "python",
   "pygments_lexer": "ipython3",
   "version": "3.9.12"
  }
 },
 "nbformat": 4,
 "nbformat_minor": 5
}
